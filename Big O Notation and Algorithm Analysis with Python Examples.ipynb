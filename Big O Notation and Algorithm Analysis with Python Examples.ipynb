{
 "cells": [
  {
   "cell_type": "markdown",
   "id": "4cd02e3c",
   "metadata": {},
   "source": [
    "# O(1) - constant time\n",
    "\n",
    "O(1) means that no matter how large the input is, the time taken doesn't change."
   ]
  },
  {
   "cell_type": "code",
   "execution_count": 31,
   "id": "e8f02476",
   "metadata": {},
   "outputs": [
    {
     "name": "stdout",
     "output_type": "stream",
     "text": [
      "1\n"
     ]
    }
   ],
   "source": [
    "def constant_algo(array):\n",
    "    result = array[0] * array[0]\n",
    "    return result\n",
    "\n",
    "if __name__ == '__main__':\n",
    "    array = [1, 2, 9, 8, 3, 4, 7, 6, 5]\n",
    "    print(constant_algo(array))"
   ]
  },
  {
   "cell_type": "markdown",
   "id": "086093b7",
   "metadata": {},
   "source": [
    "# O(n)- linear time\n",
    "O(n) means that for every element, you are doing a constant number of operations, such as comparing each element to a known value."
   ]
  },
  {
   "cell_type": "code",
   "execution_count": 17,
   "id": "4f093819",
   "metadata": {},
   "outputs": [
    {
     "name": "stdout",
     "output_type": "stream",
     "text": [
      "3\n",
      "2\n",
      "6\n",
      "None\n",
      "\n",
      "\n",
      "\n",
      "1\n",
      "2\n",
      "9\n",
      "8\n",
      "3\n",
      "4\n",
      "None\n"
     ]
    }
   ],
   "source": [
    "def linear_algo(array):\n",
    "    for item in array:\n",
    "        print(item)\n",
    "\n",
    "if __name__ == '__main__':\n",
    "    array1 = [3, 2, 6]\n",
    "    array2 = [1, 2, 9, 8, 3, 4]\n",
    "    print(linear_algo(array1))\n",
    "    print('\\n\\n')\n",
    "    print(linear_algo(array2))"
   ]
  },
  {
   "cell_type": "code",
   "execution_count": 25,
   "id": "f901002b",
   "metadata": {},
   "outputs": [
    {
     "name": "stdout",
     "output_type": "stream",
     "text": [
      "5\n",
      "-1\n"
     ]
    }
   ],
   "source": [
    "def linear_search(array, value):\n",
    "    for i in range(len(array)):\n",
    "        if array[i] == value:\n",
    "            return i\n",
    "    return -1\n",
    "\n",
    "def run_linear_serach():\n",
    "    array = [1, 3, 9, 2, 8, 7, 5, 6]\n",
    "    print(linear_search(array, 7))\n",
    "    print(linear_search(array, 0))\n",
    "    \n",
    "if __name__ == '__main__':\n",
    "    run_linear_serach()"
   ]
  },
  {
   "cell_type": "markdown",
   "id": "041c5393",
   "metadata": {},
   "source": [
    "# O(n²)- quadratic time \n",
    "O(n²) means that for every element, you do something with every other element, such as comparing them."
   ]
  },
  {
   "cell_type": "code",
   "execution_count": 24,
   "id": "765c0011",
   "metadata": {},
   "outputs": [
    {
     "name": "stdout",
     "output_type": "stream",
     "text": [
      "[1, 2, 3, 5, 6, 7, 8, 9]\n"
     ]
    }
   ],
   "source": [
    "def bubble_sort(array):\n",
    "    n = len(array)\n",
    "    # Traverse through all list elements\n",
    "    for i in range(n):\n",
    "        # Last i elements are already in place\n",
    "        for j in range(0, n-i-1):\n",
    "            # traverse the list from 0 to n-i-1\n",
    "            # Swap if the element found is greater\n",
    "            # than the next element\n",
    "            if array[j] > array[j+1] :\n",
    "                array[j], array[j+1] = array[j+1], array[j]\n",
    "    return array\n",
    "\n",
    "def run_bubble_sort():\n",
    "    # Driver code to test above\n",
    "    array = [1, 3, 9, 2, 8, 7, 5, 6]\n",
    "    print(bubble_sort(array))\n",
    "    \n",
    "if __name__ == '__main__':\n",
    "     run_bubble_sort()"
   ]
  },
  {
   "cell_type": "markdown",
   "id": "14665280",
   "metadata": {},
   "source": [
    "# O(log n) - logarithmic time\n",
    "Any algorithm which cuts the problem in half each time is O(log n)."
   ]
  },
  {
   "cell_type": "code",
   "execution_count": 22,
   "id": "f37bd9b2",
   "metadata": {},
   "outputs": [
    {
     "name": "stdout",
     "output_type": "stream",
     "text": [
      "Element is present at index 2\n"
     ]
    }
   ],
   "source": [
    "# Iterative Binary Search Function\n",
    "# It returns the index of value x in the given list if present,\n",
    "# else returns -1\n",
    "def binary_search(array, value):\n",
    "    low = 0\n",
    "    mid = 0\n",
    "    high = len(array) - 1\n",
    "\n",
    "    while low <= high:\n",
    "        # Calculate the middle of the list\n",
    "        mid = (high + low) // 2\n",
    "        # If the searched value is higher than the value in the middle of the list, ignore the left half\n",
    "        if array[mid] < value:\n",
    "            low = mid + 1\n",
    "        # If the searched value is lower than the value in the middle of the list, ignore the right half\n",
    "        elif array[mid] > value:\n",
    "            high = mid - 1\n",
    "        # If the search value is equal to the value in the middle of the list, return the middle (the index).\n",
    "        else:\n",
    "            return mid\n",
    "        # Repeat the steps above until the value is found or the left bounder is equal or higher the right bounder.\n",
    "    # If we reach here, then the element was not present\n",
    "    return -1\n",
    "def run_binary_search():\n",
    "    array = [1, 2, 3, 4, 5, 6, 7, 8, 9]\n",
    "    x = 3\n",
    "    # Function call\n",
    "    result = binary_search(array, x)\n",
    "    if result != -1:\n",
    "        print(\"Element is present at index\", str(result))\n",
    "    else:\n",
    "        print(\"Element is not present in list\")\n",
    "        \n",
    "if __name__ == '__main__':\n",
    "    run_binary_search()"
   ]
  },
  {
   "cell_type": "markdown",
   "id": "a96965a5",
   "metadata": {},
   "source": [
    "# O(n log n) - loglinear time\n",
    "O(n log n) means that you're performing an O(log n) operation for each item in your input. Most (efficient) sort algorithms are an example of this."
   ]
  },
  {
   "cell_type": "code",
   "execution_count": 13,
   "id": "87a74842",
   "metadata": {},
   "outputs": [
    {
     "name": "stdout",
     "output_type": "stream",
     "text": [
      "[3, 9, 10, 27, 38, 43, 82]\n"
     ]
    }
   ],
   "source": [
    "def merge_sort(list):\n",
    "    # 1. List with length less than or equal to one is already sorted\n",
    "    if len(list) == 1:\n",
    "        return list\n",
    "\n",
    "    # 2. Identify the list midpoint and partition the list into a left_partition and a right_partition\n",
    "    mid_point = len(list) // 2\n",
    "\n",
    "    # 3. To ensure all partitions are broken down into their individual components,\n",
    "    # the merge_sort function is called and a partitioned portion of the list is passed as a parameter\n",
    "    left_partition = merge_sort(list[:mid_point])\n",
    "    right_partition = merge_sort(list[mid_point:])\n",
    "\n",
    "    # 4. The merge_sort function returns a list composed of a sorted left and right partition.\n",
    "    return merge(left_partition, right_partition)\n",
    "\n",
    "\n",
    "# 5. takes in two lists and returns a sorted list made up of the content within the two lists\n",
    "def merge(left, right):\n",
    "    # 6. Initialize an empty list output that will be populated with sorted elements.\n",
    "    # Initialize two variables i and j which are used pointers when iterating through the lists.\n",
    "    output = []\n",
    "    left_index = right_index = 0\n",
    "\n",
    "    # 7. Executes the while loop if both pointers (left_index and right_index) are less than the length of the left and right lists\n",
    "    while left_index < len(left) and right_index < len(right):\n",
    "        # 8. Compare the elements at every position of both lists during each iteration\n",
    "        if left[left_index] < right[right_index]:\n",
    "            # output is populated with the smaller value\n",
    "            output.append(left[left_index])\n",
    "            # 9. Move to the next element in the list\n",
    "            left_index += 1\n",
    "        else:\n",
    "            output.append(right[right_index])\n",
    "            right_index += 1\n",
    "    # 10. The remnant elements are picked from the current pointer value to the end of the respective list\n",
    "    output.extend(left[left_index:])\n",
    "    output.extend(right[right_index:])\n",
    "\n",
    "    return output\n",
    "\n",
    "\n",
    "def run_merge_sort():\n",
    "    unsorted_list = [38, 27, 43, 3, 9, 82, 10]\n",
    "    print(merge_sort(unsorted_list))\n",
    "\n",
    "if __name__ == '__main__':\n",
    "    run_merge_sort()"
   ]
  },
  {
   "cell_type": "markdown",
   "id": "6c1c6cea",
   "metadata": {},
   "source": [
    "#  O(2^n) - Exponential Time\n",
    "O(2^n) means that the time taken will double with each additional element in the input data set."
   ]
  },
  {
   "cell_type": "code",
   "execution_count": 21,
   "id": "2edcb214",
   "metadata": {},
   "outputs": [
    {
     "name": "stdout",
     "output_type": "stream",
     "text": [
      "55\n"
     ]
    }
   ],
   "source": [
    "def fibonacci(n):\n",
    "    if n <= 1:\n",
    "        return n\n",
    "    return fibonacci(n-1) + fibonacci(n-2)\n",
    "\n",
    "if __name__ == '__main__':\n",
    "    print(fibonacci(10))"
   ]
  },
  {
   "cell_type": "code",
   "execution_count": null,
   "id": "0a9d0311",
   "metadata": {},
   "outputs": [],
   "source": []
  }
 ],
 "metadata": {
  "kernelspec": {
   "display_name": "Python 3 (ipykernel)",
   "language": "python",
   "name": "python3"
  },
  "language_info": {
   "codemirror_mode": {
    "name": "ipython",
    "version": 3
   },
   "file_extension": ".py",
   "mimetype": "text/x-python",
   "name": "python",
   "nbconvert_exporter": "python",
   "pygments_lexer": "ipython3",
   "version": "3.9.15"
  }
 },
 "nbformat": 4,
 "nbformat_minor": 5
}
